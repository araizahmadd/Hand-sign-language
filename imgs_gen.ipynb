{
 "cells": [
  {
   "cell_type": "code",
   "execution_count": 2,
   "id": "b8dd656a",
   "metadata": {},
   "outputs": [
    {
     "name": "stdout",
     "output_type": "stream",
     "text": [
      "data for class 0\n",
      "data for class 1\n",
      "data for class 2\n"
     ]
    }
   ],
   "source": [
    "import os\n",
    "import cv2\n",
    "data='./data'\n",
    "if not os.path.exists(data):\n",
    "    os.makedirs(data)\n",
    "    \n",
    "classes=3\n",
    "dataSetSize=150\n",
    "cap=cv2.VideoCapture(0)\n",
    "for j in range(classes):\n",
    "    if not os.path.exists(os.path.join(data,str(j))):\n",
    "        os.makedirs(os.path.join(data,str(j)))\n",
    "            \n",
    "    print('data for class {}'.format(j))\n",
    "    \n",
    "    done=False\n",
    "    while True:\n",
    "        ret,frame=cap.read()\n",
    "        cv2.putText(frame,'Q to start',(100,50),cv2.FONT_HERSHEY_SIMPLEX,1.3,(23,255,0),3,cv2.LINE_AA)\n",
    "        cv2.imshow('datacapture',frame)\n",
    "        if cv2.waitKey(20)==ord('q'):\n",
    "            break\n",
    "    counter=0\n",
    "    while counter<dataSetSize:\n",
    "        ret,frame=cap.read()\n",
    "        cv2.imshow(\"dataset collection\",frame)\n",
    "        cv2.waitKey(20)\n",
    "        cv2.imwrite(os.path.join(data,str(j),'{}.jpg'.format(counter)),frame)\n",
    "        counter += 1\n",
    "\n",
    "cap.release()\n",
    "cv2.destroyAllWindows()"
   ]
  },
  {
   "cell_type": "code",
   "execution_count": null,
   "id": "ad08b4ba",
   "metadata": {},
   "outputs": [],
   "source": []
  }
 ],
 "metadata": {
  "kernelspec": {
   "display_name": "Python 3 (ipykernel)",
   "language": "python",
   "name": "python3"
  },
  "language_info": {
   "codemirror_mode": {
    "name": "ipython",
    "version": 3
   },
   "file_extension": ".py",
   "mimetype": "text/x-python",
   "name": "python",
   "nbconvert_exporter": "python",
   "pygments_lexer": "ipython3",
   "version": "3.10.9"
  }
 },
 "nbformat": 4,
 "nbformat_minor": 5
}
