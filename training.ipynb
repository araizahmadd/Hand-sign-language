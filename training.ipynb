{
 "cells": [
  {
   "cell_type": "markdown",
   "id": "e18f75f8",
   "metadata": {},
   "source": [
    "*Random forrest*"
   ]
  },
  {
   "cell_type": "code",
   "execution_count": 12,
   "id": "65e6f4eb",
   "metadata": {},
   "outputs": [],
   "source": [
    "import pickle\n",
    "import numpy as np\n",
    "from sklearn.ensemble import RandomForestClassifier\n",
    "from sklearn.model_selection import train_test_split\n",
    "from sklearn.metrics import accuracy_score\n",
    "\n",
    "data_dict =pickle.load(open('./data.pickle','rb'))\n",
    "\n",
    "data=np.asarray(data_dict['data'])\n",
    "labels=np.asarray(data_dict['labels'])\n",
    "\n",
    "x_train,x_test,y_train,y_test=train_test_split(data,labels,test_size=0.2,shuffle=True,stratify=labels)\n",
    "\n",
    "model=RandomForestClassifier()\n",
    "model.fit(x_train,y_train)\n",
    "y_predict =model.predict(x_test)\n",
    "\n"
   ]
  },
  {
   "cell_type": "code",
   "execution_count": 13,
   "id": "c3df99d0",
   "metadata": {},
   "outputs": [
    {
     "name": "stdout",
     "output_type": "stream",
     "text": [
      "Random Forest - Accuracy: 100.00%\n",
      "Random Forest - Precision: 1.00\n",
      "Random Forest - Recall: 1.00\n",
      "Random Forest - F1 Score: 1.00\n"
     ]
    }
   ],
   "source": [
    "from sklearn.metrics import precision_score, recall_score, f1_score\n",
    "\n",
    "# Calculate metrics for Random Forest\n",
    "rf_accuracy = accuracy_score(y_test, y_predict)\n",
    "rf_precision = precision_score(y_test, y_predict, average='weighted')\n",
    "rf_recall = recall_score(y_test, y_predict, average='weighted')\n",
    "rf_f1 = f1_score(y_test, y_predict, average='weighted')\n",
    "\n",
    "print(f\"Random Forest - Accuracy: {rf_accuracy * 100:.2f}%\")\n",
    "print(f\"Random Forest - Precision: {rf_precision:.2f}\")\n",
    "print(f\"Random Forest - Recall: {rf_recall:.2f}\")\n",
    "print(f\"Random Forest - F1 Score: {rf_f1:.2f}\")\n"
   ]
  },
  {
   "cell_type": "markdown",
   "id": "63eea0a0",
   "metadata": {},
   "source": [
    "XGBOOST"
   ]
  },
  {
   "cell_type": "code",
   "execution_count": 14,
   "id": "c3deb99b",
   "metadata": {},
   "outputs": [
    {
     "name": "stdout",
     "output_type": "stream",
     "text": [
      "Accuracy: 100.00%\n",
      "Accuracy: 100.00%\n"
     ]
    },
    {
     "name": "stderr",
     "output_type": "stream",
     "text": [
      "/home/araiz/.local/lib/python3.10/site-packages/xgboost/core.py:158: UserWarning: [21:17:43] WARNING: /workspace/src/learner.cc:740: \n",
      "Parameters: { \"use_label_encoder\" } are not used.\n",
      "\n",
      "  warnings.warn(smsg, UserWarning)\n"
     ]
    }
   ],
   "source": [
    "import pickle\n",
    "import numpy as np\n",
    "from sklearn.model_selection import train_test_split\n",
    "from sklearn.metrics import accuracy_score\n",
    "from xgboost import XGBClassifier\n",
    "from sklearn.preprocessing import LabelEncoder\n",
    "\n",
    "data_dict = pickle.load(open('./data.pickle', 'rb'))\n",
    "data = np.asarray(data_dict['data'])\n",
    "labels = np.asarray(data_dict['labels'])\n",
    "x_train, x_test, y_train, y_test = train_test_split(data, labels, test_size=0.2, shuffle=True, stratify=labels)\n",
    "\n",
    "# Initialize the LabelEncoder\n",
    "le = LabelEncoder()\n",
    "\n",
    "# Fit and transform y_train, then transform y_test\n",
    "y_train = le.fit_transform(y_train)\n",
    "y_test = le.transform(y_test)\n",
    "model = XGBClassifier(use_label_encoder=False, eval_metric='mlogloss')\n",
    "model.fit(x_train, y_train)\n",
    "\n",
    "y_predict = model.predict(x_test)\n",
    "accuracy = accuracy_score(y_test, y_predict)\n",
    "print(f\"Accuracy: {accuracy * 100:.2f}%\")\n",
    "model = XGBClassifier(use_label_encoder=False, eval_metric='mlogloss')\n",
    "\n",
    "\n",
    "\n",
    "accuracy = accuracy_score(y_test, y_predict)\n",
    "print(f\"Accuracy: {accuracy * 100:.2f}%\")\n"
   ]
  },
  {
   "cell_type": "code",
   "execution_count": 15,
   "id": "c39a2b00",
   "metadata": {},
   "outputs": [
    {
     "name": "stdout",
     "output_type": "stream",
     "text": [
      "XGBoost - Accuracy: 100.00%\n",
      "XGBoost - Precision: 1.00\n",
      "XGBoost - Recall: 1.00\n",
      "XGBoost - F1 Score: 1.00\n"
     ]
    }
   ],
   "source": [
    "xgb_accuracy = accuracy_score(y_test, y_predict)\n",
    "xgb_precision = precision_score(y_test, y_predict, average='weighted')\n",
    "xgb_recall = recall_score(y_test, y_predict, average='weighted')\n",
    "xgb_f1 = f1_score(y_test, y_predict, average='weighted')\n",
    "\n",
    "print(f\"XGBoost - Accuracy: {xgb_accuracy * 100:.2f}%\")\n",
    "print(f\"XGBoost - Precision: {xgb_precision:.2f}\")\n",
    "print(f\"XGBoost - Recall: {xgb_recall:.2f}\")\n",
    "print(f\"XGBoost - F1 Score: {xgb_f1:.2f}\")\n"
   ]
  },
  {
   "cell_type": "markdown",
   "id": "61030b53",
   "metadata": {},
   "source": [
    "Neural Network"
   ]
  },
  {
   "cell_type": "code",
   "execution_count": 16,
   "id": "323d93d0",
   "metadata": {},
   "outputs": [
    {
     "name": "stdout",
     "output_type": "stream",
     "text": [
      "Epoch 1/50\n",
      "9/9 - 2s - loss: 1.0602 - accuracy: 0.4132 - val_loss: 1.0274 - val_accuracy: 0.5833 - 2s/epoch - 176ms/step\n",
      "Epoch 2/50\n",
      "9/9 - 0s - loss: 0.9991 - accuracy: 0.5868 - val_loss: 0.9536 - val_accuracy: 0.6667 - 55ms/epoch - 6ms/step\n",
      "Epoch 3/50\n",
      "9/9 - 0s - loss: 0.9141 - accuracy: 0.6562 - val_loss: 0.8523 - val_accuracy: 0.6667 - 55ms/epoch - 6ms/step\n",
      "Epoch 4/50\n",
      "9/9 - 0s - loss: 0.8050 - accuracy: 0.7917 - val_loss: 0.7230 - val_accuracy: 0.7639 - 61ms/epoch - 7ms/step\n",
      "Epoch 5/50\n",
      "9/9 - 0s - loss: 0.6631 - accuracy: 0.8333 - val_loss: 0.5900 - val_accuracy: 1.0000 - 62ms/epoch - 7ms/step\n",
      "Epoch 6/50\n",
      "9/9 - 0s - loss: 0.5281 - accuracy: 0.9479 - val_loss: 0.4452 - val_accuracy: 1.0000 - 82ms/epoch - 9ms/step\n",
      "Epoch 7/50\n",
      "9/9 - 0s - loss: 0.4107 - accuracy: 0.9826 - val_loss: 0.3332 - val_accuracy: 1.0000 - 86ms/epoch - 10ms/step\n",
      "Epoch 8/50\n",
      "9/9 - 0s - loss: 0.2884 - accuracy: 1.0000 - val_loss: 0.2270 - val_accuracy: 1.0000 - 93ms/epoch - 10ms/step\n",
      "Epoch 9/50\n",
      "9/9 - 0s - loss: 0.1925 - accuracy: 1.0000 - val_loss: 0.1424 - val_accuracy: 1.0000 - 88ms/epoch - 10ms/step\n",
      "Epoch 10/50\n",
      "9/9 - 0s - loss: 0.1381 - accuracy: 1.0000 - val_loss: 0.0830 - val_accuracy: 1.0000 - 101ms/epoch - 11ms/step\n",
      "Epoch 11/50\n",
      "9/9 - 0s - loss: 0.0875 - accuracy: 1.0000 - val_loss: 0.0449 - val_accuracy: 1.0000 - 98ms/epoch - 11ms/step\n",
      "Epoch 12/50\n",
      "9/9 - 0s - loss: 0.0550 - accuracy: 1.0000 - val_loss: 0.0286 - val_accuracy: 1.0000 - 82ms/epoch - 9ms/step\n",
      "Epoch 13/50\n",
      "9/9 - 0s - loss: 0.0416 - accuracy: 1.0000 - val_loss: 0.0176 - val_accuracy: 1.0000 - 64ms/epoch - 7ms/step\n",
      "Epoch 14/50\n",
      "9/9 - 0s - loss: 0.0247 - accuracy: 1.0000 - val_loss: 0.0115 - val_accuracy: 1.0000 - 62ms/epoch - 7ms/step\n",
      "Epoch 15/50\n",
      "9/9 - 0s - loss: 0.0209 - accuracy: 1.0000 - val_loss: 0.0084 - val_accuracy: 1.0000 - 66ms/epoch - 7ms/step\n",
      "Epoch 16/50\n",
      "9/9 - 0s - loss: 0.0152 - accuracy: 1.0000 - val_loss: 0.0066 - val_accuracy: 1.0000 - 68ms/epoch - 8ms/step\n",
      "Epoch 17/50\n",
      "9/9 - 0s - loss: 0.0143 - accuracy: 1.0000 - val_loss: 0.0051 - val_accuracy: 1.0000 - 104ms/epoch - 12ms/step\n",
      "Epoch 18/50\n",
      "9/9 - 0s - loss: 0.0108 - accuracy: 1.0000 - val_loss: 0.0039 - val_accuracy: 1.0000 - 99ms/epoch - 11ms/step\n",
      "Epoch 19/50\n",
      "9/9 - 0s - loss: 0.0122 - accuracy: 0.9965 - val_loss: 0.0037 - val_accuracy: 1.0000 - 118ms/epoch - 13ms/step\n",
      "Epoch 20/50\n",
      "9/9 - 0s - loss: 0.0117 - accuracy: 0.9965 - val_loss: 0.0047 - val_accuracy: 1.0000 - 89ms/epoch - 10ms/step\n",
      "Epoch 21/50\n",
      "9/9 - 0s - loss: 0.0135 - accuracy: 1.0000 - val_loss: 0.0029 - val_accuracy: 1.0000 - 88ms/epoch - 10ms/step\n",
      "Epoch 22/50\n",
      "9/9 - 0s - loss: 0.0081 - accuracy: 1.0000 - val_loss: 0.0022 - val_accuracy: 1.0000 - 86ms/epoch - 10ms/step\n",
      "Epoch 23/50\n",
      "9/9 - 0s - loss: 0.0084 - accuracy: 1.0000 - val_loss: 0.0022 - val_accuracy: 1.0000 - 89ms/epoch - 10ms/step\n",
      "Epoch 24/50\n",
      "9/9 - 0s - loss: 0.0057 - accuracy: 1.0000 - val_loss: 0.0017 - val_accuracy: 1.0000 - 91ms/epoch - 10ms/step\n",
      "Epoch 25/50\n",
      "9/9 - 0s - loss: 0.0040 - accuracy: 1.0000 - val_loss: 0.0014 - val_accuracy: 1.0000 - 116ms/epoch - 13ms/step\n",
      "Epoch 26/50\n",
      "9/9 - 0s - loss: 0.0047 - accuracy: 1.0000 - val_loss: 0.0013 - val_accuracy: 1.0000 - 105ms/epoch - 12ms/step\n",
      "Epoch 27/50\n",
      "9/9 - 0s - loss: 0.0028 - accuracy: 1.0000 - val_loss: 0.0011 - val_accuracy: 1.0000 - 72ms/epoch - 8ms/step\n",
      "Epoch 28/50\n",
      "9/9 - 0s - loss: 0.0038 - accuracy: 1.0000 - val_loss: 0.0010 - val_accuracy: 1.0000 - 61ms/epoch - 7ms/step\n",
      "Epoch 29/50\n",
      "9/9 - 0s - loss: 0.0032 - accuracy: 1.0000 - val_loss: 8.7512e-04 - val_accuracy: 1.0000 - 58ms/epoch - 6ms/step\n",
      "Epoch 30/50\n",
      "9/9 - 0s - loss: 0.0031 - accuracy: 1.0000 - val_loss: 7.9862e-04 - val_accuracy: 1.0000 - 57ms/epoch - 6ms/step\n",
      "Epoch 31/50\n",
      "9/9 - 0s - loss: 0.0028 - accuracy: 1.0000 - val_loss: 7.5995e-04 - val_accuracy: 1.0000 - 60ms/epoch - 7ms/step\n",
      "Epoch 32/50\n",
      "9/9 - 0s - loss: 0.0027 - accuracy: 1.0000 - val_loss: 6.6743e-04 - val_accuracy: 1.0000 - 66ms/epoch - 7ms/step\n",
      "Epoch 33/50\n",
      "9/9 - 0s - loss: 0.0036 - accuracy: 1.0000 - val_loss: 6.7569e-04 - val_accuracy: 1.0000 - 79ms/epoch - 9ms/step\n",
      "Epoch 34/50\n",
      "9/9 - 0s - loss: 0.0020 - accuracy: 1.0000 - val_loss: 6.2035e-04 - val_accuracy: 1.0000 - 64ms/epoch - 7ms/step\n",
      "Epoch 35/50\n",
      "9/9 - 0s - loss: 0.0024 - accuracy: 1.0000 - val_loss: 6.1783e-04 - val_accuracy: 1.0000 - 65ms/epoch - 7ms/step\n",
      "Epoch 36/50\n",
      "9/9 - 0s - loss: 0.0036 - accuracy: 1.0000 - val_loss: 5.2454e-04 - val_accuracy: 1.0000 - 66ms/epoch - 7ms/step\n",
      "Epoch 37/50\n",
      "9/9 - 0s - loss: 0.0014 - accuracy: 1.0000 - val_loss: 4.7155e-04 - val_accuracy: 1.0000 - 89ms/epoch - 10ms/step\n",
      "Epoch 38/50\n",
      "9/9 - 0s - loss: 0.0021 - accuracy: 1.0000 - val_loss: 4.4952e-04 - val_accuracy: 1.0000 - 97ms/epoch - 11ms/step\n",
      "Epoch 39/50\n",
      "9/9 - 0s - loss: 0.0018 - accuracy: 1.0000 - val_loss: 4.2667e-04 - val_accuracy: 1.0000 - 97ms/epoch - 11ms/step\n",
      "Epoch 40/50\n",
      "9/9 - 0s - loss: 0.0014 - accuracy: 1.0000 - val_loss: 3.7630e-04 - val_accuracy: 1.0000 - 107ms/epoch - 12ms/step\n",
      "Epoch 41/50\n",
      "9/9 - 0s - loss: 0.0019 - accuracy: 1.0000 - val_loss: 3.3335e-04 - val_accuracy: 1.0000 - 103ms/epoch - 11ms/step\n",
      "Epoch 42/50\n",
      "9/9 - 0s - loss: 0.0022 - accuracy: 1.0000 - val_loss: 3.6622e-04 - val_accuracy: 1.0000 - 105ms/epoch - 12ms/step\n",
      "Epoch 43/50\n",
      "9/9 - 0s - loss: 0.0018 - accuracy: 1.0000 - val_loss: 3.4524e-04 - val_accuracy: 1.0000 - 92ms/epoch - 10ms/step\n",
      "Epoch 44/50\n",
      "9/9 - 0s - loss: 0.0012 - accuracy: 1.0000 - val_loss: 2.9044e-04 - val_accuracy: 1.0000 - 88ms/epoch - 10ms/step\n",
      "Epoch 45/50\n",
      "9/9 - 0s - loss: 0.0023 - accuracy: 1.0000 - val_loss: 2.6412e-04 - val_accuracy: 1.0000 - 99ms/epoch - 11ms/step\n",
      "Epoch 46/50\n",
      "9/9 - 0s - loss: 0.0019 - accuracy: 1.0000 - val_loss: 2.7013e-04 - val_accuracy: 1.0000 - 171ms/epoch - 19ms/step\n",
      "Epoch 47/50\n",
      "9/9 - 0s - loss: 0.0016 - accuracy: 1.0000 - val_loss: 3.0316e-04 - val_accuracy: 1.0000 - 96ms/epoch - 11ms/step\n",
      "Epoch 48/50\n",
      "9/9 - 0s - loss: 0.0023 - accuracy: 1.0000 - val_loss: 2.6579e-04 - val_accuracy: 1.0000 - 91ms/epoch - 10ms/step\n",
      "Epoch 49/50\n",
      "9/9 - 0s - loss: 0.0013 - accuracy: 1.0000 - val_loss: 2.0571e-04 - val_accuracy: 1.0000 - 95ms/epoch - 11ms/step\n",
      "Epoch 50/50\n",
      "9/9 - 0s - loss: 9.6053e-04 - accuracy: 1.0000 - val_loss: 1.8086e-04 - val_accuracy: 1.0000 - 98ms/epoch - 11ms/step\n",
      "3/3 [==============================] - 0s 3ms/step\n",
      "Test Accuracy: 100.00%\n"
     ]
    }
   ],
   "source": [
    "import pickle\n",
    "import numpy as np\n",
    "from sklearn.model_selection import train_test_split\n",
    "from sklearn.preprocessing import LabelBinarizer\n",
    "from sklearn.metrics import accuracy_score\n",
    "import tensorflow as tf\n",
    "from tensorflow.keras.models import Sequential\n",
    "from tensorflow.keras.layers import Dense, Dropout\n",
    "\n",
    "data_dict = pickle.load(open('./data.pickle', 'rb'))\n",
    "data = np.asarray(data_dict['data'])\n",
    "labels = np.asarray(data_dict['labels'])\n",
    "x_train, x_test, y_train, y_test = train_test_split(data, labels, test_size=0.2, shuffle=True, stratify=labels)\n",
    "\n",
    "lb = LabelBinarizer()\n",
    "y_train = lb.fit_transform(y_train)\n",
    "y_test = lb.transform(y_test)\n",
    "\n",
    "\n",
    "model = Sequential()\n",
    "\n",
    "model.add(Dense(128, input_shape=(x_train.shape[1],), activation='relu'))\n",
    "model.add(Dense(64, activation='relu'))\n",
    "model.add(Dropout(0.3))  \n",
    "model.add(Dense(32, activation='relu'))\n",
    "model.add(Dense(y_train.shape[1], activation='softmax')) \n",
    "\n",
    "\n",
    "model.compile(optimizer='adam', loss='categorical_crossentropy', metrics=['accuracy'])\n",
    "\n",
    "history = model.fit(x_train, y_train, epochs=50, batch_size=32, validation_split=0.2, verbose=2)\n",
    "\n",
    "\n",
    "y_pred = model.predict(x_test)\n",
    "y_pred_labels = np.argmax(y_pred, axis=1)\n",
    "y_test_labels = np.argmax(y_test, axis=1)\n",
    "accuracy = accuracy_score(y_test_labels, y_pred_labels)\n",
    "print(f\"Test Accuracy: {accuracy * 100:.2f}%\")\n"
   ]
  },
  {
   "cell_type": "code",
   "execution_count": 17,
   "id": "0c4e0700",
   "metadata": {},
   "outputs": [
    {
     "name": "stdout",
     "output_type": "stream",
     "text": [
      "Neural Network - Accuracy: 100.00%\n",
      "Neural Network - Precision: 1.00\n",
      "Neural Network - Recall: 1.00\n",
      "Neural Network - F1 Score: 1.00\n"
     ]
    }
   ],
   "source": [
    "\n",
    "nn_accuracy = accuracy_score(y_test_labels, y_pred_labels)\n",
    "nn_precision = precision_score(y_test_labels, y_pred_labels, average='weighted')\n",
    "nn_recall = recall_score(y_test_labels, y_pred_labels, average='weighted')\n",
    "nn_f1 = f1_score(y_test_labels, y_pred_labels, average='weighted')\n",
    "\n",
    "print(f\"Neural Network - Accuracy: {nn_accuracy * 100:.2f}%\")\n",
    "print(f\"Neural Network - Precision: {nn_precision:.2f}\")\n",
    "print(f\"Neural Network - Recall: {nn_recall:.2f}\")\n",
    "print(f\"Neural Network - F1 Score: {nn_f1:.2f}\")\n"
   ]
  },
  {
   "cell_type": "code",
   "execution_count": 18,
   "id": "06d48957",
   "metadata": {},
   "outputs": [
    {
     "name": "stdout",
     "output_type": "stream",
     "text": [
      "Keras weights file (<HDF5 file \"variables.h5\" (mode r+)>) saving:\n",
      "...layers\n",
      "......dense\n",
      ".........vars\n",
      "............0\n",
      "............1\n",
      "......dense_1\n",
      ".........vars\n",
      "............0\n",
      "............1\n",
      "......dense_2\n",
      ".........vars\n",
      "............0\n",
      "............1\n",
      "......dense_3\n",
      ".........vars\n",
      "............0\n",
      "............1\n",
      "......dropout\n",
      ".........vars\n",
      "...metrics\n",
      "......mean\n",
      ".........vars\n",
      "............0\n",
      "............1\n",
      "......mean_metric_wrapper\n",
      ".........vars\n",
      "............0\n",
      "............1\n",
      "...optimizer\n",
      "......vars\n",
      ".........0\n",
      ".........1\n",
      ".........10\n",
      ".........11\n",
      ".........12\n",
      ".........13\n",
      ".........14\n",
      ".........15\n",
      ".........16\n",
      ".........2\n",
      ".........3\n",
      ".........4\n",
      ".........5\n",
      ".........6\n",
      ".........7\n",
      ".........8\n",
      ".........9\n",
      "...vars\n",
      "Keras model archive saving:\n",
      "File Name                                             Modified             Size\n",
      "config.json                                    2024-08-30 21:17:50         2407\n",
      "metadata.json                                  2024-08-30 21:17:50           64\n",
      "variables.h5                                   2024-08-30 21:17:50       221664\n"
     ]
    }
   ],
   "source": [
    "f = open('model.p','wb')\n",
    "pickle.dump({'model':model},f)\n",
    "f.close()"
   ]
  },
  {
   "cell_type": "code",
   "execution_count": null,
   "id": "20009c30",
   "metadata": {},
   "outputs": [],
   "source": []
  }
 ],
 "metadata": {
  "kernelspec": {
   "display_name": "Python 3 (ipykernel)",
   "language": "python",
   "name": "python3"
  },
  "language_info": {
   "codemirror_mode": {
    "name": "ipython",
    "version": 3
   },
   "file_extension": ".py",
   "mimetype": "text/x-python",
   "name": "python",
   "nbconvert_exporter": "python",
   "pygments_lexer": "ipython3",
   "version": "3.10.12"
  }
 },
 "nbformat": 4,
 "nbformat_minor": 5
}
